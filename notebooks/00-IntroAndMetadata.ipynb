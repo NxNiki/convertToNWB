{
 "cells": [
  {
   "cell_type": "markdown",
   "id": "composite-stack",
   "metadata": {},
   "source": [
    "# Intro & Metadata\n",
    "\n",
    "This notebook introduces the approach of the current repository, and explores the metadata files."
   ]
  },
  {
   "cell_type": "code",
   "execution_count": 1,
   "id": "latin-jewelry",
   "metadata": {},
   "outputs": [],
   "source": [
    "%config Completer.use_jedi = False"
   ]
  },
  {
   "cell_type": "code",
   "execution_count": 78,
   "id": "sublime-marketplace",
   "metadata": {},
   "outputs": [],
   "source": [
    "# Import local code module\n",
    "import sys\n",
    "import os\n",
    "sys.path.append('..')\n",
    "from conv import Paths, process_session\n",
    "from conv.io import (get_files, load_configs, load_config, load_task_object,\n",
    "                     save_config, save_task_object)\n",
    "from conv.parser import parse_lines_log, parse_lines_sync\n",
    "from conv.process import process_task"
   ]
  },
  {
   "cell_type": "markdown",
   "id": "aac0867e",
   "metadata": {},
   "source": [
    "## Settings"
   ]
  },
  {
   "cell_type": "code",
   "execution_count": 79,
   "id": "229ad716",
   "metadata": {},
   "outputs": [],
   "source": [
    "# Define the examples folder\n",
    "examples_folder = 'example_files/'"
   ]
  },
  {
   "cell_type": "markdown",
   "id": "taken-source",
   "metadata": {},
   "source": [
    "## Metadata Files\n",
    "\n",
    "Metadata for the task is organized into a series of config files, each representing a facet of the study / task. \n",
    "\n",
    "In order to process an individual subject, the configs can be loaded together and session specific information can be added. \n",
    "\n",
    "This combined metadata file is then used to create the output data file. "
   ]
  },
  {
   "cell_type": "code",
   "execution_count": 80,
   "id": "minimal-running",
   "metadata": {},
   "outputs": [],
   "source": [
    "# Get a list of metadata files\n",
    "files = get_files('../metadata', 'yaml')"
   ]
  },
  {
   "cell_type": "code",
   "execution_count": 81,
   "id": "chicken-journalism",
   "metadata": {},
   "outputs": [
    {
     "data": {
      "text/plain": [
       "['device_info.yaml',\n",
       " 'intervals_info.yaml',\n",
       " 'position_info.yaml',\n",
       " 'session_info.yaml',\n",
       " 'sorting_info.yaml',\n",
       " 'stimulus_info.yaml',\n",
       " 'subject_info.yaml',\n",
       " 'trial_info.yaml',\n",
       " 'units_info.yaml']"
      ]
     },
     "execution_count": 81,
     "metadata": {},
     "output_type": "execute_result"
    }
   ],
   "source": [
    "# Check the list of configuration files\n",
    "files"
   ]
  },
  {
   "cell_type": "code",
   "execution_count": 82,
   "id": "fabulous-hopkins",
   "metadata": {},
   "outputs": [],
   "source": [
    "# Load all the files together to create an overall metadata object\n",
    "metadata = load_configs(files, '../metadata')"
   ]
  },
  {
   "cell_type": "code",
   "execution_count": 83,
   "id": "compressed-bookmark",
   "metadata": {},
   "outputs": [
    {
     "data": {
      "text/plain": [
       "{'device': {'device_name': 'Microwire Electrodes',\n",
       "  'device_description': 'Behnke Fried/Micro Inner Wire Bundle',\n",
       "  'device_manufacturer': 'Ad-Tech Medical',\n",
       "  'bundle_description': 'Microwire Bundle'},\n",
       " 'intervals': None,\n",
       " 'position': {'player_position': 'Position of the player.',\n",
       "  'head_direction': 'The head direction of the player, in degrees.',\n",
       "  'speed': 'Movement speed of the player, computed from the position data.',\n",
       "  'derived_position_measures': 'Derived measures related to position data.',\n",
       "  'arena_center': 'Center of the arena.',\n",
       "  'arena_x_range': 'Navigable range of the x-axis of the arena [min, max].',\n",
       "  'arena_y_range': 'Navigable range of the y-axis of the arena [min, max].'},\n",
       " 'session': {'identifier': 'XX',\n",
       "  'session_id': 'XX',\n",
       "  'session_start_time': '1111/11/11',\n",
       "  'session_description': 'This file contains a recorded session of the XX task, a XX, from a human neurosurgical patient with microwires that record single-unit activity.',\n",
       "  'experiment_name': 'XX',\n",
       "  'experiment_description': 'The XX task is a XX. Subjects do XX.',\n",
       "  'experiment_run_version': 'XX',\n",
       "  'experiment_run_platform': 'Unity',\n",
       "  'experiment_language': 'english',\n",
       "  'institution': 'Columbia University',\n",
       "  'lab': 'Electrophysiology, Memory, and Navigation Laboratory',\n",
       "  'experimenter': ['XX'],\n",
       "  'data_collection': 'XX',\n",
       "  'keywords': ['human single units'],\n",
       "  'related_publications': 'XX',\n",
       "  'source_script': 'https://github.com/HSUPipeline/ConvertXX/',\n",
       "  'source_script_file_name': 'XX',\n",
       "  'stimulus_notes': 'The stimuli are XX.'},\n",
       " 'sorting': {'sorter': 'XX',\n",
       "  'version': 'XX',\n",
       "  'settings': 'XX',\n",
       "  'done_by': 'XX',\n",
       "  'date': 'XX'},\n",
       " 'stimulus': None,\n",
       " 'subject': {'age': 'XX',\n",
       "  'sex': 'XX',\n",
       "  'species': 'Homo sapiens',\n",
       "  'description': 'The subject is a clinical patient with intractable epilepsy undergoing pre-surgical mapping in an epilepsy monitoring unit, with implanted electrodes including microwires that can detect single-unit activity.'},\n",
       " 'trial': None,\n",
       " 'units': {'channel': 'The recording channel of this unit.',\n",
       "  'location': 'The anatomical location of this unit.'}}"
      ]
     },
     "execution_count": 83,
     "metadata": {},
     "output_type": "execute_result"
    }
   ],
   "source": [
    "# Check the metadata object\n",
    "metadata"
   ]
  },
  {
   "cell_type": "markdown",
   "id": "quarterly-spell",
   "metadata": {},
   "source": [
    "The above metadata file includes all the metadata fields\n",
    "\n",
    "Where available, information is prefilled with default information for the current task. \n",
    "\n",
    "For fields not filled in (marked with `XX`), the metadata needs to be entered. "
   ]
  },
  {
   "cell_type": "code",
   "execution_count": 84,
   "id": "liquid-bangkok",
   "metadata": {},
   "outputs": [],
   "source": [
    "# Save out the collected metadata to a subject-level file\n",
    "save_config(metadata, 'example_metadata', folder=examples_folder)"
   ]
  },
  {
   "cell_type": "code",
   "execution_count": 85,
   "id": "optional-algeria",
   "metadata": {},
   "outputs": [
    {
     "data": {
      "text/plain": [
       "'Electrophysiology, Memory, and Navigation Laboratory'"
      ]
     },
     "execution_count": 85,
     "metadata": {},
     "output_type": "execute_result"
    }
   ],
   "source": [
    "# Reload the collected metadata file, and check an example attribute\n",
    "metadata_new = load_config('example_metadata.yaml', folder=examples_folder)\n",
    "metadata_new['session']['lab']"
   ]
  },
  {
   "cell_type": "markdown",
   "id": "balanced-horizon",
   "metadata": {},
   "source": [
    "## Logfile Processing\n",
    "\n",
    "The task logfile, which is a structured txt file, needs parsing and organizing in order to create the new data files. "
   ]
  },
  {
   "cell_type": "code",
   "execution_count": 86,
   "id": "c3b6fe74",
   "metadata": {},
   "outputs": [],
   "source": [
    "# Define experiment label\n",
    "experiment = 'movie_paradigm'"
   ]
  },
  {
   "cell_type": "code",
   "execution_count": 87,
   "id": "1bc8aa6b",
   "metadata": {},
   "outputs": [],
   "source": [
    "# Define subject information\n",
    "subject = 'sub-561'\n",
    "session = 'ses-1'"
   ]
  },
  {
   "cell_type": "code",
   "execution_count": 88,
   "id": "a18ef2a0",
   "metadata": {},
   "outputs": [],
   "source": [
    "# Define project folder\n",
    "\n",
    "# project_path = '/u/project/ifried/data/nwb_unpacked_recordings/'\n",
    "project_path = '/Users/XinNiuAdmin/nwb_unpacked_recordings/'"
   ]
  },
  {
   "cell_type": "code",
   "execution_count": 89,
   "id": "12f5382d",
   "metadata": {},
   "outputs": [],
   "source": [
    "# Define project paths object\n",
    "paths = Paths(project_path, subject, experiment, session)"
   ]
  },
  {
   "cell_type": "code",
   "execution_count": 90,
   "id": "63a65505-99a0-4d7d-9150-6e1f9c996906",
   "metadata": {},
   "outputs": [
    {
     "data": {
      "text/plain": [
       "['__class__',\n",
       " '__delattr__',\n",
       " '__dict__',\n",
       " '__dir__',\n",
       " '__doc__',\n",
       " '__eq__',\n",
       " '__format__',\n",
       " '__ge__',\n",
       " '__getattr__',\n",
       " '__getattribute__',\n",
       " '__gt__',\n",
       " '__hash__',\n",
       " '__init__',\n",
       " '__init_subclass__',\n",
       " '__le__',\n",
       " '__lt__',\n",
       " '__module__',\n",
       " '__ne__',\n",
       " '__new__',\n",
       " '__reduce__',\n",
       " '__reduce_ex__',\n",
       " '__repr__',\n",
       " '__setattr__',\n",
       " '__sizeof__',\n",
       " '__str__',\n",
       " '__subclasshook__',\n",
       " '__weakref__',\n",
       " '_experiment',\n",
       " '_project_folders',\n",
       " '_recordings_name',\n",
       " '_session',\n",
       " '_session_folders',\n",
       " '_subject',\n",
       " '_subject_folders',\n",
       " 'experiment',\n",
       " 'get_files',\n",
       " 'project',\n",
       " 'recordings',\n",
       " 'session',\n",
       " 'session_name',\n",
       " 'subject']"
      ]
     },
     "execution_count": 90,
     "metadata": {},
     "output_type": "execute_result"
    }
   ],
   "source": [
    "dir(paths)"
   ]
  },
  {
   "cell_type": "code",
   "execution_count": 91,
   "id": "65d8aeaa-6cb6-4c54-be0a-4ba4a4562351",
   "metadata": {},
   "outputs": [
    {
     "name": "stdout",
     "output_type": "stream",
     "text": [
      "/Users/XinNiuAdmin/nwb_unpacked_recordings/recordings/sub-561/movie_paradigm/session_ses-1/01_raw/behavior\n"
     ]
    }
   ],
   "source": [
    "print(paths.behavior)\n",
    "os.makedirs(paths.behavior, exist_ok=True)\n"
   ]
  },
  {
   "cell_type": "markdown",
   "id": "frequent-monaco",
   "metadata": {},
   "source": [
    "### Process session all together\n",
    "\n",
    "The logfile processing extracts required information from the logfile into a `Task` object."
   ]
  },
  {
   "cell_type": "code",
   "execution_count": 44,
   "id": "vital-mexican",
   "metadata": {},
   "outputs": [
    {
     "name": "stdout",
     "output_type": "stream",
     "text": [
      "\t\tparsing logfile...\n"
     ]
    },
    {
     "ename": "FileNotFoundError",
     "evalue": "[Errno 2] No such file or directory: '/u/project/ifried/data/nwb_unpacked_recordings/recordings/sub-561/movie_paradigm/session_ses-1/01_raw/behavior/logfile.txt'",
     "output_type": "error",
     "traceback": [
      "\u001b[0;31m---------------------------------------------------------------------------\u001b[0m",
      "\u001b[0;31mFileNotFoundError\u001b[0m                         Traceback (most recent call last)",
      "Cell \u001b[0;32mIn[44], line 2\u001b[0m\n\u001b[1;32m      1\u001b[0m \u001b[38;5;66;03m# Process task information\u001b[39;00m\n\u001b[0;32m----> 2\u001b[0m task \u001b[38;5;241m=\u001b[39m \u001b[43mprocess_session\u001b[49m\u001b[43m(\u001b[49m\u001b[43mpaths\u001b[49m\u001b[43m,\u001b[49m\u001b[43m \u001b[49m\u001b[43mprocess\u001b[49m\u001b[38;5;241;43m=\u001b[39;49m\u001b[38;5;28;43;01mTrue\u001b[39;49;00m\u001b[43m)\u001b[49m\n",
      "File \u001b[0;32m~/Documents/convertToNWB/notebooks/../conv/parser.py:37\u001b[0m, in \u001b[0;36mprocess_session\u001b[0;34m(paths, process, task, verbose)\u001b[0m\n\u001b[1;32m     34\u001b[0m task\u001b[38;5;241m.\u001b[39madd_metadata(paths\u001b[38;5;241m.\u001b[39m_subject, paths\u001b[38;5;241m.\u001b[39m_experiment, paths\u001b[38;5;241m.\u001b[39m_session)\n\u001b[1;32m     36\u001b[0m \u001b[38;5;66;03m# Parse the log file\u001b[39;00m\n\u001b[0;32m---> 37\u001b[0m task \u001b[38;5;241m=\u001b[39m \u001b[43mparse_lines_log\u001b[49m\u001b[43m(\u001b[49m\u001b[43mpaths\u001b[49m\u001b[38;5;241;43m.\u001b[39;49m\u001b[43mbehavior\u001b[49m\u001b[43m \u001b[49m\u001b[38;5;241;43m/\u001b[39;49m\u001b[43m \u001b[49m\u001b[38;5;124;43m'\u001b[39;49m\u001b[38;5;124;43mlogfile.txt\u001b[39;49m\u001b[38;5;124;43m'\u001b[39;49m\u001b[43m,\u001b[49m\u001b[43m \u001b[49m\u001b[43mtask\u001b[49m\u001b[38;5;241;43m=\u001b[39;49m\u001b[43mtask\u001b[49m\u001b[43m)\u001b[49m\n\u001b[1;32m     39\u001b[0m \u001b[38;5;28;01mif\u001b[39;00m process:\n\u001b[1;32m     40\u001b[0m     task \u001b[38;5;241m=\u001b[39m process_task(task)\n",
      "File \u001b[0;32m~/Documents/convertToNWB/notebooks/../conv/parser.py:73\u001b[0m, in \u001b[0;36mparse_lines_log\u001b[0;34m(file_path, task, verbose)\u001b[0m\n\u001b[1;32m     70\u001b[0m trial_counter \u001b[38;5;241m=\u001b[39m \u001b[38;5;241m0\u001b[39m\n\u001b[1;32m     72\u001b[0m \u001b[38;5;66;03m# Loop across all lines in log file and collect information\u001b[39;00m\n\u001b[0;32m---> 73\u001b[0m \u001b[38;5;28;01mwith\u001b[39;00m \u001b[38;5;28;43mopen\u001b[39;49m\u001b[43m(\u001b[49m\u001b[43mfile_path\u001b[49m\u001b[43m,\u001b[49m\u001b[43m \u001b[49m\u001b[38;5;124;43m'\u001b[39;49m\u001b[38;5;124;43mr\u001b[39;49m\u001b[38;5;124;43m'\u001b[39;49m\u001b[43m)\u001b[49m \u001b[38;5;28;01mas\u001b[39;00m fobj:\n\u001b[1;32m     74\u001b[0m \n\u001b[1;32m     75\u001b[0m     \u001b[38;5;66;03m#  Get the start & end times of the session, and count number of lines\u001b[39;00m\n\u001b[1;32m     76\u001b[0m     lines \u001b[38;5;241m=\u001b[39m fobj\u001b[38;5;241m.\u001b[39mreadlines()\n\u001b[1;32m     77\u001b[0m     task\u001b[38;5;241m.\u001b[39msession[\u001b[38;5;124m'\u001b[39m\u001b[38;5;124mstart_time\u001b[39m\u001b[38;5;124m'\u001b[39m] \u001b[38;5;241m=\u001b[39m lines[\u001b[38;5;241m0\u001b[39m]\u001b[38;5;241m.\u001b[39msplit(\u001b[38;5;124m'\u001b[39m\u001b[38;5;130;01m\\t\u001b[39;00m\u001b[38;5;124m'\u001b[39m)[\u001b[38;5;241m0\u001b[39m]\n",
      "\u001b[0;31mFileNotFoundError\u001b[0m: [Errno 2] No such file or directory: '/u/project/ifried/data/nwb_unpacked_recordings/recordings/sub-561/movie_paradigm/session_ses-1/01_raw/behavior/logfile.txt'"
     ]
    }
   ],
   "source": [
    "# Process task information\n",
    "task = process_session(paths, process=True)"
   ]
  },
  {
   "cell_type": "code",
   "execution_count": null,
   "id": "dramatic-profession",
   "metadata": {},
   "outputs": [],
   "source": [
    "# Check the task object\n",
    "task"
   ]
  },
  {
   "cell_type": "markdown",
   "id": "661597a5",
   "metadata": {},
   "source": [
    "### Process logfile in steps\n",
    "\n",
    "The logfile processing includes two main steps:\n",
    "\n",
    "- parse the logfile text, extracting required information\n",
    "- process the collected information in the Task object\n",
    "\n",
    "These processes can be run separately, which may be useful for exploring and checking for any issues, etc."
   ]
  },
  {
   "cell_type": "code",
   "execution_count": null,
   "id": "64acc631",
   "metadata": {},
   "outputs": [],
   "source": [
    "# Parse the log file\n",
    "task1 = parse_lines_log(paths.behavior)"
   ]
  },
  {
   "cell_type": "code",
   "execution_count": null,
   "id": "5f0d19e1",
   "metadata": {},
   "outputs": [],
   "source": [
    "# Check task object - task information \n",
    "print(task1.trial['trial'][0:5])"
   ]
  },
  {
   "cell_type": "code",
   "execution_count": null,
   "id": "f4b7a755",
   "metadata": {},
   "outputs": [],
   "source": [
    "# Parse the sync pulses \n",
    "task1 = parse_lines_sync(paths.sync, task1)"
   ]
  },
  {
   "cell_type": "markdown",
   "id": "c956c094",
   "metadata": {},
   "source": [
    "This Task object can then be passed into a subsequent function to process the information."
   ]
  },
  {
   "cell_type": "code",
   "execution_count": null,
   "id": "3e023725",
   "metadata": {},
   "outputs": [],
   "source": [
    "# Preprocess the task information\n",
    "task1 = process_task(task1)"
   ]
  },
  {
   "cell_type": "markdown",
   "id": "77698415",
   "metadata": {},
   "source": [
    "### Save & Reload task objects"
   ]
  },
  {
   "cell_type": "code",
   "execution_count": null,
   "id": "664b238c",
   "metadata": {},
   "outputs": [],
   "source": [
    "# Save out a task object\n",
    "task_obj_name = 'example_task_obj'\n",
    "save_task_object(task, task_obj_name, folder='example_files/')"
   ]
  },
  {
   "cell_type": "code",
   "execution_count": null,
   "id": "30e28c2f",
   "metadata": {},
   "outputs": [],
   "source": [
    "# Reload task object\n",
    "new_task = load_task_object(task_obj_name, folder='example_files/')"
   ]
  },
  {
   "cell_type": "code",
   "execution_count": null,
   "id": "1652b618",
   "metadata": {},
   "outputs": [],
   "source": [
    "# Check reloaded task object\n",
    "new_task"
   ]
  },
  {
   "cell_type": "markdown",
   "id": "circular-moldova",
   "metadata": {},
   "source": [
    "### Process Functions\n",
    "\n",
    "This `Task` object can then be passed into subsequent function(s) to process the information.\n",
    "\n",
    "These process functions include:\n",
    "- `process_time_info`\n",
    "- `process_task_info`\n",
    "- `process_position_info`\n",
    "- `process_location_info`\n",
    "- `process_error_info`\n",
    "\n",
    "Each of these functions can be updated independently if some task-related information needs to be updated. "
   ]
  },
  {
   "cell_type": "code",
   "execution_count": null,
   "id": "incorporated-alcohol",
   "metadata": {},
   "outputs": [],
   "source": [
    "# Import the process functions\n",
    "from conv.process import *"
   ]
  }
 ],
 "metadata": {
  "kernelspec": {
   "display_name": "Python 3 (ipykernel)",
   "language": "python",
   "name": "python3"
  },
  "language_info": {
   "codemirror_mode": {
    "name": "ipython",
    "version": 3
   },
   "file_extension": ".py",
   "mimetype": "text/x-python",
   "name": "python",
   "nbconvert_exporter": "python",
   "pygments_lexer": "ipython3",
   "version": "3.9.6"
  }
 },
 "nbformat": 4,
 "nbformat_minor": 5
}
