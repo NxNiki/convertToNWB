{
 "cells": [
  {
   "cell_type": "markdown",
   "id": "proved-reduction",
   "metadata": {},
   "source": [
    "# Converting Local Data to NWB\n",
    "\n",
    "This notebook steps through converting data to NWB format. "
   ]
  },
  {
   "cell_type": "code",
   "execution_count": 4,
   "id": "mexican-brunswick",
   "metadata": {},
   "outputs": [],
   "source": [
    "%config Completer.use_jedi = False"
   ]
  },
  {
   "cell_type": "code",
   "execution_count": 5,
   "id": "medieval-karen",
   "metadata": {},
   "outputs": [],
   "source": [
    "import numpy as np\n",
    "\n",
    "from pynwb import NWBFile, TimeSeries, ProcessingModule\n",
    "from pynwb.file import Subject, Units\n",
    "from pynwb.behavior import Position, CompassDirection\n",
    "from pynwb.ecephys import ElectricalSeries"
   ]
  },
  {
   "cell_type": "code",
   "execution_count": 6,
   "id": "substantial-motivation",
   "metadata": {},
   "outputs": [],
   "source": [
    "# Import local code module\n",
    "import sys\n",
    "sys.path.append('..')\n",
    "from conv import Paths\n",
    "from conv.io import (get_files, make_session_name,\n",
    "                     load_config, load_task_object, open_h5file, save_nwbfile)\n",
    "from conv.utils import incrementer, get_current_date, convert_time_to_date, validate_nwb"
   ]
  },
  {
   "cell_type": "markdown",
   "id": "found-checklist",
   "metadata": {},
   "source": [
    "### Settings"
   ]
  },
  {
   "cell_type": "code",
   "execution_count": 8,
   "id": "8a32b826",
   "metadata": {},
   "outputs": [],
   "source": [
    "# Run settings\n",
    "reset_time = True\n",
    "drop_before_task = True"
   ]
  },
  {
   "cell_type": "code",
   "execution_count": 9,
   "id": "1876dc0e",
   "metadata": {},
   "outputs": [],
   "source": [
    "# Define experiment name\n",
    "experiment = 'experiment'"
   ]
  },
  {
   "cell_type": "code",
   "execution_count": 10,
   "id": "crude-chemistry",
   "metadata": {},
   "outputs": [],
   "source": [
    "# Define subject information\n",
    "subject = 'example'\n",
    "session = 'session_0'"
   ]
  },
  {
   "cell_type": "code",
   "execution_count": 11,
   "id": "6b5b3142",
   "metadata": {},
   "outputs": [],
   "source": [
    "# Define project path\n",
    "project_path = ''"
   ]
  },
  {
   "cell_type": "code",
   "execution_count": 12,
   "id": "00a8c68d",
   "metadata": {},
   "outputs": [],
   "source": [
    "# Define project paths object\n",
    "paths = Paths(project_path, subject, experiment, session)"
   ]
  },
  {
   "cell_type": "markdown",
   "id": "d2fc296e",
   "metadata": {},
   "source": [
    "## Load Files"
   ]
  },
  {
   "cell_type": "code",
   "execution_count": 13,
   "id": "8028fd6c",
   "metadata": {},
   "outputs": [
    {
     "data": {
      "text/plain": [
       "'experiment_example_session_0'"
      ]
     },
     "execution_count": 13,
     "metadata": {},
     "output_type": "execute_result"
    }
   ],
   "source": [
    "# Define session name\n",
    "session_name = make_session_name(subject, experiment, session)\n",
    "session_name"
   ]
  },
  {
   "cell_type": "code",
   "execution_count": 14,
   "id": "major-identity",
   "metadata": {},
   "outputs": [
    {
     "ename": "FileNotFoundError",
     "evalue": "[Errno 2] No such file or directory: 'example_files/experiment_example_session_0.task'",
     "output_type": "error",
     "traceback": [
      "\u001b[0;31m---------------------------------------------------------------------------\u001b[0m",
      "\u001b[0;31mFileNotFoundError\u001b[0m                         Traceback (most recent call last)",
      "Cell \u001b[0;32mIn[14], line 2\u001b[0m\n\u001b[1;32m      1\u001b[0m \u001b[38;5;66;03m# Load behavior data\u001b[39;00m\n\u001b[0;32m----> 2\u001b[0m task \u001b[38;5;241m=\u001b[39m \u001b[43mload_task_object\u001b[49m\u001b[43m(\u001b[49m\u001b[43msession_name\u001b[49m\u001b[43m,\u001b[49m\u001b[43m \u001b[49m\u001b[43mfolder\u001b[49m\u001b[38;5;241;43m=\u001b[39;49m\u001b[38;5;124;43m'\u001b[39;49m\u001b[38;5;124;43mexample_files/\u001b[39;49m\u001b[38;5;124;43m'\u001b[39;49m\u001b[43m)\u001b[49m\n\u001b[1;32m      3\u001b[0m \u001b[38;5;28;01massert\u001b[39;00m task\n",
      "File \u001b[0;32m~/Documents/convertToNWB/venv/lib/python3.9/site-packages/convnwb/io/io.py:185\u001b[0m, in \u001b[0;36mload_task_object\u001b[0;34m(file_name, folder)\u001b[0m\n\u001b[1;32m    165\u001b[0m \u001b[38;5;28;01mdef\u001b[39;00m \u001b[38;5;21mload_task_object\u001b[39m(file_name, folder\u001b[38;5;241m=\u001b[39m\u001b[38;5;28;01mNone\u001b[39;00m):\n\u001b[1;32m    166\u001b[0m \u001b[38;5;250m    \u001b[39m\u001b[38;5;124;03m\"\"\"Load a task object.\u001b[39;00m\n\u001b[1;32m    167\u001b[0m \n\u001b[1;32m    168\u001b[0m \u001b[38;5;124;03m    Parameters\u001b[39;00m\n\u001b[0;32m   (...)\u001b[0m\n\u001b[1;32m    182\u001b[0m \u001b[38;5;124;03m    Task objects are saved and loaded as pickle files.\u001b[39;00m\n\u001b[1;32m    183\u001b[0m \u001b[38;5;124;03m    \"\"\"\u001b[39;00m\n\u001b[0;32m--> 185\u001b[0m     \u001b[38;5;28;01mwith\u001b[39;00m \u001b[38;5;28;43mopen\u001b[39;49m\u001b[43m(\u001b[49m\u001b[43mcheck_ext\u001b[49m\u001b[43m(\u001b[49m\u001b[43mcheck_folder\u001b[49m\u001b[43m(\u001b[49m\u001b[43mfile_name\u001b[49m\u001b[43m,\u001b[49m\u001b[43m \u001b[49m\u001b[43mfolder\u001b[49m\u001b[43m)\u001b[49m\u001b[43m,\u001b[49m\u001b[43m \u001b[49m\u001b[38;5;124;43m'\u001b[39;49m\u001b[38;5;124;43m.task\u001b[39;49m\u001b[38;5;124;43m'\u001b[39;49m\u001b[43m)\u001b[49m\u001b[43m,\u001b[49m\u001b[43m \u001b[49m\u001b[38;5;124;43m'\u001b[39;49m\u001b[38;5;124;43mrb\u001b[39;49m\u001b[38;5;124;43m'\u001b[39;49m\u001b[43m)\u001b[49m \u001b[38;5;28;01mas\u001b[39;00m load_obj:\n\u001b[1;32m    186\u001b[0m         task \u001b[38;5;241m=\u001b[39m pickle\u001b[38;5;241m.\u001b[39mload(load_obj)\n\u001b[1;32m    188\u001b[0m     \u001b[38;5;28;01mreturn\u001b[39;00m task\n",
      "\u001b[0;31mFileNotFoundError\u001b[0m: [Errno 2] No such file or directory: 'example_files/experiment_example_session_0.task'"
     ]
    }
   ],
   "source": [
    "# Load behavior data\n",
    "task = load_task_object(session_name, folder='example_files/')\n",
    "assert task"
   ]
  },
  {
   "cell_type": "code",
   "execution_count": 15,
   "id": "faad818a",
   "metadata": {},
   "outputs": [
    {
     "ename": "FileNotFoundError",
     "evalue": "[Errno 2] No such file or directory: 'example_files/experiment_example_session_0.yaml'",
     "output_type": "error",
     "traceback": [
      "\u001b[0;31m---------------------------------------------------------------------------\u001b[0m",
      "\u001b[0;31mFileNotFoundError\u001b[0m                         Traceback (most recent call last)",
      "Cell \u001b[0;32mIn[15], line 2\u001b[0m\n\u001b[1;32m      1\u001b[0m \u001b[38;5;66;03m# Load the metadata file\u001b[39;00m\n\u001b[0;32m----> 2\u001b[0m metadata \u001b[38;5;241m=\u001b[39m \u001b[43mload_config\u001b[49m\u001b[43m(\u001b[49m\u001b[43msession_name\u001b[49m\u001b[43m,\u001b[49m\u001b[43m \u001b[49m\u001b[43mfolder\u001b[49m\u001b[38;5;241;43m=\u001b[39;49m\u001b[38;5;124;43m'\u001b[39;49m\u001b[38;5;124;43mexample_files/\u001b[39;49m\u001b[38;5;124;43m'\u001b[39;49m\u001b[43m)\u001b[49m\n\u001b[1;32m      3\u001b[0m \u001b[38;5;28;01massert\u001b[39;00m metadata\n",
      "File \u001b[0;32m~/Documents/convertToNWB/venv/lib/python3.9/site-packages/convnwb/io/io.py:112\u001b[0m, in \u001b[0;36mload_config\u001b[0;34m(file_name, folder)\u001b[0m\n\u001b[1;32m     96\u001b[0m \u001b[38;5;28;01mdef\u001b[39;00m \u001b[38;5;21mload_config\u001b[39m(file_name, folder\u001b[38;5;241m=\u001b[39m\u001b[38;5;28;01mNone\u001b[39;00m):\n\u001b[1;32m     97\u001b[0m \u001b[38;5;250m    \u001b[39m\u001b[38;5;124;03m\"\"\"Load an individual config file.\u001b[39;00m\n\u001b[1;32m     98\u001b[0m \n\u001b[1;32m     99\u001b[0m \u001b[38;5;124;03m    Parameters\u001b[39;00m\n\u001b[0;32m   (...)\u001b[0m\n\u001b[1;32m    109\u001b[0m \u001b[38;5;124;03m        Information from the loaded config file.\u001b[39;00m\n\u001b[1;32m    110\u001b[0m \u001b[38;5;124;03m    \"\"\"\u001b[39;00m\n\u001b[0;32m--> 112\u001b[0m     \u001b[38;5;28;01mwith\u001b[39;00m \u001b[38;5;28;43mopen\u001b[39;49m\u001b[43m(\u001b[49m\u001b[43mcheck_ext\u001b[49m\u001b[43m(\u001b[49m\u001b[43mcheck_folder\u001b[49m\u001b[43m(\u001b[49m\u001b[43mfile_name\u001b[49m\u001b[43m,\u001b[49m\u001b[43m \u001b[49m\u001b[43mfolder\u001b[49m\u001b[43m)\u001b[49m\u001b[43m,\u001b[49m\u001b[43m \u001b[49m\u001b[38;5;124;43m'\u001b[39;49m\u001b[38;5;124;43m.yaml\u001b[39;49m\u001b[38;5;124;43m'\u001b[39;49m\u001b[43m)\u001b[49m\u001b[43m,\u001b[49m\u001b[43m \u001b[49m\u001b[38;5;124;43m'\u001b[39;49m\u001b[38;5;124;43mr\u001b[39;49m\u001b[38;5;124;43m'\u001b[39;49m\u001b[43m)\u001b[49m \u001b[38;5;28;01mas\u001b[39;00m fobj:\n\u001b[1;32m    113\u001b[0m         data \u001b[38;5;241m=\u001b[39m yaml\u001b[38;5;241m.\u001b[39msafe_load(fobj)\n\u001b[1;32m    115\u001b[0m     \u001b[38;5;28;01mreturn\u001b[39;00m data\n",
      "\u001b[0;31mFileNotFoundError\u001b[0m: [Errno 2] No such file or directory: 'example_files/experiment_example_session_0.yaml'"
     ]
    }
   ],
   "source": [
    "# Load the metadata file\n",
    "metadata = load_config(session_name, folder='example_files/')\n",
    "assert metadata"
   ]
  },
  {
   "cell_type": "code",
   "execution_count": null,
   "id": "d22943b2",
   "metadata": {},
   "outputs": [],
   "source": [
    "# Create an electrodes object\n",
    "electrodes = Electrodes()\n",
    "electrodes.set_placeholder()"
   ]
  },
  {
   "cell_type": "code",
   "execution_count": null,
   "id": "30d8434f",
   "metadata": {},
   "outputs": [],
   "source": [
    "# Get a list of the available spike files\n",
    "spike_files = get_files(paths.spikes, 'cells')\n",
    "assert len(spike_files)"
   ]
  },
  {
   "cell_type": "markdown",
   "id": "2400bdf0",
   "metadata": {},
   "source": [
    "## Setup"
   ]
  },
  {
   "cell_type": "code",
   "execution_count": null,
   "id": "1112b2cc",
   "metadata": {},
   "outputs": [],
   "source": [
    "# Initialize notes\n",
    "notes = None"
   ]
  },
  {
   "cell_type": "code",
   "execution_count": null,
   "id": "ac698217",
   "metadata": {},
   "outputs": [],
   "source": [
    "# Get session start time\n",
    "session_date = convert_time_to_date(task.session['start_time'] / 1000)\n",
    "session_date"
   ]
  },
  {
   "cell_type": "code",
   "execution_count": null,
   "id": "ed798941",
   "metadata": {},
   "outputs": [],
   "source": [
    "# Reset task time stamps to start at the session start time\n",
    "if reset_time:\n",
    "    task = update_task_time(task, 'offset', offset=task.session['start_time'])\n",
    "    notes = 'The exact subtracted timestamp is: {}'.format(task.info['time_offset'])"
   ]
  },
  {
   "cell_type": "markdown",
   "id": "ready-bernard",
   "metadata": {},
   "source": [
    "## Initialize a NWB File\n",
    "\n",
    "Set up the file."
   ]
  },
  {
   "cell_type": "markdown",
   "id": "ffbfeb27",
   "metadata": {},
   "source": [
    "### Define Subject Information"
   ]
  },
  {
   "cell_type": "code",
   "execution_count": null,
   "id": "59d2dfc5",
   "metadata": {},
   "outputs": [],
   "source": [
    "# Create subject object\n",
    "subject = Subject(age=metadata['subject']['age'] if metadata['subject']['age'] != 'XX' else None,\n",
    "                  sex=metadata['subject']['sex'] if metadata['subject']['sex'] != 'XX' else None,\n",
    "                  description=metadata['subject']['description'], \n",
    "                  species=metadata['subject']['species'],\n",
    "                  subject_id=subject)"
   ]
  },
  {
   "cell_type": "markdown",
   "id": "spread-belief",
   "metadata": {},
   "source": [
    "### Define Recording Metadata"
   ]
  },
  {
   "cell_type": "code",
   "execution_count": null,
   "id": "a6ad8a9f",
   "metadata": {},
   "outputs": [],
   "source": [
    "# Define information collected from task object\n",
    "experiment_description = \\\n",
    "    'Task: ' + task.experiment['version']['label'] + \\\n",
    "    ' build-' + task.experiment['version']['number'] + \\\n",
    "    ' ({})'.format(task.experiment['language'])\n",
    "\n",
    "# Define the source script as this notebook\n",
    "source_file_name = 'notebooks/01-ConvertToNWB'"
   ]
  },
  {
   "cell_type": "code",
   "execution_count": null,
   "id": "needed-revelation",
   "metadata": {},
   "outputs": [],
   "source": [
    "# Define collection site information\n",
    "data_collection = 'XX'"
   ]
  },
  {
   "cell_type": "markdown",
   "id": "instructional-partnership",
   "metadata": {},
   "source": [
    "### Collect together into NWB file"
   ]
  },
  {
   "cell_type": "code",
   "execution_count": null,
   "id": "senior-elite",
   "metadata": {},
   "outputs": [],
   "source": [
    "# Initialize a NWB file\n",
    "nwbfile = NWBFile(session_description=metadata['study']['session_description'],\n",
    "                  identifier=session_name,\n",
    "                  session_start_time=session_date,\n",
    "                  file_create_date=get_current_date(),\n",
    "                  experimenter=metadata['study']['experimenter'],\n",
    "                  experiment_description=experiment_description,\n",
    "                  session_id=session_name,\n",
    "                  institution=metadata['study']['institution'],\n",
    "                  keywords=metadata['study']['keywords'],\n",
    "                  notes=notes,\n",
    "                  source_script=metadata['study']['source_script'],\n",
    "                  source_script_file_name=source_file_name,\n",
    "                  data_collection=metadata['study']['data_collection'],\n",
    "                  stimulus_notes=metadata['study']['stimulus_notes'],\n",
    "                  lab=metadata['study']['lab'],\n",
    "                  subject=subject)"
   ]
  },
  {
   "cell_type": "markdown",
   "id": "musical-partner",
   "metadata": {},
   "source": [
    "## Recording Information"
   ]
  },
  {
   "cell_type": "markdown",
   "id": "configured-pottery",
   "metadata": {},
   "source": [
    "### Device(s)"
   ]
  },
  {
   "cell_type": "code",
   "execution_count": null,
   "id": "developing-humor",
   "metadata": {},
   "outputs": [],
   "source": [
    "# Create device object\n",
    "device = nwbfile.create_device(metadata['device']['device_name'],\n",
    "                               metadata['device']['device_description'],\n",
    "                               metadata['device']['device_manufacturer'])"
   ]
  },
  {
   "cell_type": "code",
   "execution_count": null,
   "id": "absolute-latter",
   "metadata": {},
   "outputs": [],
   "source": [
    "# Check out the defined device\n",
    "device"
   ]
  },
  {
   "cell_type": "markdown",
   "id": "fitted-moscow",
   "metadata": {},
   "source": [
    "### Electrodes"
   ]
  },
  {
   "cell_type": "code",
   "execution_count": null,
   "id": "ced5de8e",
   "metadata": {},
   "outputs": [],
   "source": [
    "# Add electrode bundles and electrode information\n",
    "for bundle_name, bundle_location in electrodes:\n",
    "    \n",
    "    # Create an electrode group for the current bundle\n",
    "    electrode_group = nwbfile.create_electrode_group(name=bundle_name,\n",
    "                                                     description=metadata['device']['bundle_description'],\n",
    "                                                     location=bundle_location,\n",
    "                                                     device=device)\n",
    "    \n",
    "    # Add electrodes to file for the current bundle\n",
    "    for electrode_ind in range(electrodes.n_electrodes_per_bundle):\n",
    "        nwbfile.add_electrode(location=electrode_group.location,\n",
    "                              group=electrode_group,\n",
    "                              id=electrode_ind, enforce_unique_id=False)"
   ]
  },
  {
   "cell_type": "code",
   "execution_count": null,
   "id": "fa573a43",
   "metadata": {},
   "outputs": [],
   "source": [
    "# Check the electrodes table\n",
    "nwbfile.electrodes.to_dataframe()"
   ]
  },
  {
   "cell_type": "markdown",
   "id": "functioning-summer",
   "metadata": {},
   "source": [
    "## Stimuli\n",
    "\n",
    "Add stimulus information here.\n",
    "\n",
    "Depending on the task, this could include:\n",
    "- nwbfile.stimulus (with `add_stimulus`), which can contain stimuli such as images\n",
    "- nwbfile.acquisition (with `add_acquisition`), which can contain information such as positions"
   ]
  },
  {
   "cell_type": "code",
   "execution_count": null,
   "id": "mobile-chase",
   "metadata": {},
   "outputs": [],
   "source": [
    "# Add stimuli information to file, as NWB stimulus objects\n",
    "#   In this case, `add_stimulus` expect to add a series of TimeSeries objects - could be images, etc\n",
    "stimuli = ... # Load or define stimuli (load might want to move to top)\n",
    "for stim in stimuli:\n",
    "    nwbfile.add_stimulus(stim)\n",
    "# AND/OR\n",
    "# Add stimulus position information\n",
    "stimuli = Position(name='stimuli')\n",
    "stimuli.create_spatial_series(name='stimulus_positions',\n",
    "                              data=task.stimuli['...'],\n",
    "                              unit='virtual units',\n",
    "                              reference_frame='corner',\n",
    "                              rate=0.,\n",
    "                              description=metadata['stimulus']['position'])\n",
    "nwbfile.add_acquisition(stimuli)"
   ]
  },
  {
   "cell_type": "markdown",
   "id": "moral-return",
   "metadata": {},
   "source": [
    "## Behaviour Data"
   ]
  },
  {
   "cell_type": "markdown",
   "id": "primary-possibility",
   "metadata": {},
   "source": [
    "### Trial Data"
   ]
  },
  {
   "cell_type": "code",
   "execution_count": null,
   "id": "laden-static",
   "metadata": {},
   "outputs": [],
   "source": [
    "# Add trial event definitions\n",
    "for event, description in metadata['events'].items():\n",
    "    nwbfile.add_trial_column(event, description)"
   ]
  },
  {
   "cell_type": "code",
   "execution_count": null,
   "id": "consecutive-assessment",
   "metadata": {},
   "outputs": [],
   "source": [
    "# Add event information to NWB file\n",
    "for t_ind in range(len(task.trial['trial'])):\n",
    "    \n",
    "    # Add trial information to file\n",
    "    nwbfile.add_trial(start_time=...,\n",
    "                      ...,\n",
    "                      stop_time=...\n",
    "                     )"
   ]
  },
  {
   "cell_type": "code",
   "execution_count": null,
   "id": "average-smile",
   "metadata": {},
   "outputs": [],
   "source": [
    "# Check the trial information as a dataframe\n",
    "behav = nwbfile.trials.to_dataframe()\n",
    "behav.head()"
   ]
  },
  {
   "cell_type": "markdown",
   "id": "simplified-participation",
   "metadata": {},
   "source": [
    "### Position Data"
   ]
  },
  {
   "cell_type": "code",
   "execution_count": null,
   "id": "4bbfae11",
   "metadata": {},
   "outputs": [],
   "source": [
    "# Define and add the boundary definitions\n",
    "boundaries = Position(name='boundaries')\n",
    "boundaries.create_spatial_series(name='arena_center',\n",
    "                                 data=np.array([task.environment['...'],\n",
    "                                                task.environment['...']]),\n",
    "                                 unit='virtual units',\n",
    "                                 reference_frame='corner',\n",
    "                                 rate=0.,\n",
    "                                 description=metadata['position']['arena_center'])\n",
    "boundaries.create_spatial_series(name='arena_x_range',\n",
    "                                 data=np.array([task.environment['...'],\n",
    "                                                task.environment['...']]),\n",
    "                                 unit='virtual units',\n",
    "                                 reference_frame='corner',\n",
    "                                 rate=0.,\n",
    "                                 description=metadata['position']['arena_x_range'])\n",
    "boundaries.create_spatial_series(name='arena_z_range',\n",
    "                                 data=np.array([task.environment['...'],\n",
    "                                                task.environment['...']]),\n",
    "                                 unit='virtual units',\n",
    "                                 reference_frame='corner',\n",
    "                                 rate=0.,\n",
    "                                 description=metadata['position']['arena_z_range'])\n",
    "nwbfile.add_acquisition(boundaries)"
   ]
  },
  {
   "cell_type": "code",
   "execution_count": null,
   "id": "immune-better",
   "metadata": {},
   "outputs": [],
   "source": [
    "# Set position data as a spatial series and add to NWB file\n",
    "position = Position(name='position')\n",
    "position.create_spatial_series(name='player_position',\n",
    "                               data=np.vstack([task.pos['x'], task.pos['z']]),\n",
    "                               unit='virtual units',\n",
    "                               timestamps=task.position['time'],\n",
    "                               reference_frame='XX',\n",
    "                               description=metadata['position']['player_position'])\n",
    "nwbfile.add_acquisition(position)"
   ]
  },
  {
   "cell_type": "code",
   "execution_count": null,
   "id": "98a28f91",
   "metadata": {},
   "outputs": [],
   "source": [
    "# Set head direction information as a compass direction and add to NWB file\n",
    "head_direction = CompassDirection(name='head_direction')\n",
    "head_direction.create_spatial_series(name='head_direction',\n",
    "                                     data=task.head_direction['degrees'],\n",
    "                                     unit='degrees',\n",
    "                                     timestamps=task.head_direction['time'],\n",
    "                                     reference_frame='north',\n",
    "                                     description=metadata['position']['head_direction'])\n",
    "nwbfile.add_acquisition(head_direction)"
   ]
  },
  {
   "cell_type": "markdown",
   "id": "personalized-version",
   "metadata": {},
   "source": [
    "#### Add position derived measures as ProcessingModule"
   ]
  },
  {
   "cell_type": "code",
   "execution_count": null,
   "id": "harmful-apartment",
   "metadata": {},
   "outputs": [],
   "source": [
    "# Create time series for speed & linear positon\n",
    "speed = TimeSeries(name='speed',\n",
    "                   data = task.position['speed'],\n",
    "                   unit = 'virtual units / second',\n",
    "                   timestamps=task.position['time'],\n",
    "                   description=metadata['position']['speed'])"
   ]
  },
  {
   "cell_type": "code",
   "execution_count": null,
   "id": "funky-valuable",
   "metadata": {},
   "outputs": [],
   "source": [
    "# Add derived spatial measures to NWB file as ProcessingModule\n",
    "position_things = ProcessingModule(name='position_measures',\n",
    "                                   data_interfaces=[speed],\n",
    "                                   description=metadata['position']['derived_position_measures'])\n",
    "nwbfile.add_processing_module(position_things)"
   ]
  },
  {
   "cell_type": "markdown",
   "id": "ceramic-migration",
   "metadata": {},
   "source": [
    "## Spiking Data"
   ]
  },
  {
   "cell_type": "code",
   "execution_count": null,
   "id": "75389ca3",
   "metadata": {},
   "outputs": [],
   "source": [
    "# Define some sorting metadata\n",
    "description = \"Spike sorting solutions - done with {} by {}.\".format(\\\n",
    "    metadata['sorting']['sorter'], metadata['sorting']['done_by'])"
   ]
  },
  {
   "cell_type": "code",
   "execution_count": null,
   "id": "5e46f805",
   "metadata": {},
   "outputs": [],
   "source": [
    "# Initialize the units data, with given description\n",
    "nwbfile.units = Units('units', description=description)"
   ]
  },
  {
   "cell_type": "code",
   "execution_count": null,
   "id": "ddedadeb",
   "metadata": {},
   "outputs": [],
   "source": [
    "# Add unit metadata columns\n",
    "for field, description in metadata['units'].items():\n",
    "    nwbfile.add_unit_column(field, description)"
   ]
  },
  {
   "cell_type": "code",
   "execution_count": null,
   "id": "wired-japan",
   "metadata": {},
   "outputs": [],
   "source": [
    "# Add each unit to the NWB file\n",
    "ind = incrementer()\n",
    "for spike_file in spike_files:\n",
    "    \n",
    "    # Get channel information from file name\n",
    "    channel = ...\n",
    "    \n",
    "    # Load spike file & get spike data (example for HDF5 files)\n",
    "    with open_h5file(spike_file, paths.spikes) as h5file:\n",
    "        \n",
    "        spike_data = h5file['spike_data_sorted']\n",
    "        spike_times = spike_data['spike_times'][:]\n",
    "        spike_clusters = spike_data['spike_clusters'][:]\n",
    "        spike_waveforms = spike_data['spike_waveforms'][:]\n",
    "        \n",
    "    # If task information has been offset, apply the same to spike times\n",
    "    if task.status['time_reset']:\n",
    "        spike_times = spike_times - task.info['time_offset']\n",
    "\n",
    "    # Loop across clusters within the file, and add each unit\n",
    "    for cluster in set(spike_clusters):\n",
    "        mask = spike_clusters == cluster\n",
    "\n",
    "        # Get the spike times for the cluster\n",
    "        unit_spike_times = spike_times[mask]\n",
    "        if SETTINGS['DROP_BEFORE_TASK']:\n",
    "            unit_spike_times = unit_spike_times[unit_spike_times >= task.session['start_time']]\n",
    "\n",
    "        # Get the average waveform\n",
    "        unit_waveform_mean = np.mean(spike_waveforms[mask, :], 0)\n",
    "\n",
    "        # Add unit data\n",
    "        nwbfile.add_unit(id=next(ind),\n",
    "                         electrodes=[0],\n",
    "                         channel=channel,\n",
    "                         location=...,\n",
    "                         waveform_mean=unit_waveform_mean,\n",
    "                         spike_times=unit_spike_times)"
   ]
  },
  {
   "cell_type": "code",
   "execution_count": null,
   "id": "16bad731",
   "metadata": {},
   "outputs": [],
   "source": [
    "# Check the units table\n",
    "nwbfile.units.to_dataframe().head()"
   ]
  },
  {
   "cell_type": "markdown",
   "id": "suitable-zealand",
   "metadata": {},
   "source": [
    "## Field Data"
   ]
  },
  {
   "cell_type": "code",
   "execution_count": null,
   "id": "aware-abuse",
   "metadata": {},
   "outputs": [],
   "source": [
    "# Create the electrode table\n",
    "electrode_table_region = nwbfile.create_electrode_table_region([0], 'xx')"
   ]
  },
  {
   "cell_type": "code",
   "execution_count": null,
   "id": "solar-banks",
   "metadata": {},
   "outputs": [],
   "source": [
    "# Get the list of available LFP files\n",
    "lfp_files = get_files(full_path / 'lfp', select='.p')"
   ]
  },
  {
   "cell_type": "code",
   "execution_count": null,
   "id": "recorded-shopper",
   "metadata": {},
   "outputs": [],
   "source": [
    "# Add each LFP trace as a new object\n",
    "for ind, lfp_file in enumerate(lfp_files):\n",
    "    with open(full_path / 'lfp' / lfp_file, 'rb') as pfile:\n",
    "        \n",
    "        # Load ephys data\n",
    "        #ephys_data = load(...)\n",
    "        \n",
    "        # Create & add electrical series to store LFP data\n",
    "        ephys_ts = ElectricalSeries('field_data_' + str(ind),\n",
    "                                    ephys_data,\n",
    "                                    electrode_table_region,\n",
    "                                    starting_time=0.,\n",
    "                                    rate=500.,\n",
    "                                    resolution=np.inf,\n",
    "                                    description=\"...\")\n",
    "        nwbfile.add_acquisition(ephys_ts)"
   ]
  },
  {
   "cell_type": "markdown",
   "id": "80112454",
   "metadata": {},
   "source": [
    "## Data Checks\n",
    "\n",
    "Check NWBfile for consistency."
   ]
  },
  {
   "cell_type": "code",
   "execution_count": null,
   "id": "90e4c143",
   "metadata": {},
   "outputs": [],
   "source": [
    "..."
   ]
  },
  {
   "cell_type": "markdown",
   "id": "secondary-special",
   "metadata": {},
   "source": [
    "### Save out local data file"
   ]
  },
  {
   "cell_type": "code",
   "execution_count": null,
   "id": "wanted-horizontal",
   "metadata": {},
   "outputs": [],
   "source": [
    "# # Save out an example NWB file\n",
    "# save_nwbfile(nwbfile, 'example_files/')"
   ]
  },
  {
   "cell_type": "code",
   "execution_count": null,
   "id": "efc5849a",
   "metadata": {},
   "outputs": [],
   "source": [
    "# # Validate the saved out NWB file\n",
    "# validate_nwb('example_files/nwb_local_data', verbose=True)"
   ]
  }
 ],
 "metadata": {
  "kernelspec": {
   "display_name": "Python 3 (ipykernel)",
   "language": "python",
   "name": "python3"
  },
  "language_info": {
   "codemirror_mode": {
    "name": "ipython",
    "version": 3
   },
   "file_extension": ".py",
   "mimetype": "text/x-python",
   "name": "python",
   "nbconvert_exporter": "python",
   "pygments_lexer": "ipython3",
   "version": "3.9.19"
  }
 },
 "nbformat": 4,
 "nbformat_minor": 5
}
