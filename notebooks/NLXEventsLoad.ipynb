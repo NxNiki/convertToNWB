{
 "cells": [
  {
   "cell_type": "markdown",
   "metadata": {},
   "source": [
    "Load event file with neo and customer code in Fried's lab. Make sure the file is corrected parsed.\n"
   ]
  },
  {
   "cell_type": "code",
   "execution_count": 21,
   "metadata": {},
   "outputs": [
    {
     "name": "stdout",
     "output_type": "stream",
     "text": [
      "The autoreload extension is already loaded. To reload it, use:\n",
      "  %reload_ext autoreload\n"
     ]
    }
   ],
   "source": [
    "import pandas as pd\n",
    "import numpy as np\n",
    "import sys\n",
    "import os\n",
    "import matplotlib.pyplot as plt\n",
    "\n",
    "%matplotlib inline\n",
    "%load_ext autoreload\n",
    "%autoreload\n",
    "\n",
    "from conv.general import *\n",
    "import conv.neuralynx_io as nlxio\n",
    "import neo\n",
    "\n",
    "# remove all warnings:\n",
    "# import warnings\n",
    "# warnings.filterwarnings(\"ignore\", message=\"Unable to parse\")\n",
    "# warnings.filterwarnings(\"ignore\", message=\"Invalid\")"
   ]
  },
  {
   "cell_type": "code",
   "execution_count": 44,
   "metadata": {},
   "outputs": [
    {
     "data": {
      "text/plain": [
       "'file.txt'"
      ]
     },
     "execution_count": 44,
     "metadata": {},
     "output_type": "execute_result"
    }
   ],
   "source": [
    "os.path.basename('file.txt')"
   ]
  },
  {
   "cell_type": "code",
   "execution_count": 23,
   "metadata": {
    "tags": []
   },
   "outputs": [],
   "source": [
    "pd.set_option('display.max_columns', 30)\n",
    "file_name = '/Users/XinNiuAdmin/Documents/NWBTest/D555/EXP3_Movie_24_Pre_Nap/2022-08-02_13-25-41/Events.nev'\n",
    "\n",
    "events = nlxio.load_nev(file_name)\n",
    "TTLs = []\n",
    "for record in events['records']:\n",
    "    TTLs.append(record[3]) # 5th column apparently holds the TTLs\n",
    "\n",
    "reader = neo.io.NeuralynxIO(filename=file_name)\n",
    "reader.parse_header()\n"
   ]
  },
  {
   "cell_type": "code",
   "execution_count": null,
   "metadata": {},
   "outputs": [],
   "source": [
    "print(TTLs[0:10])\n",
    "plt.plot(TTLs); plt.show()"
   ]
  },
  {
   "cell_type": "markdown",
   "metadata": {},
   "source": [
    "## Compare raw data in event file:"
   ]
  },
  {
   "cell_type": "code",
   "execution_count": 43,
   "metadata": {},
   "outputs": [
    {
     "data": {
      "text/plain": [
       "array([(0, 0, 2, 1659446908509934, 19, 0, 0, 0, 0, [0, 0, 0, 0, 0, 0, 0, 0], b'Starting Recording'),\n",
       "       (0, 0, 2, 1659446912365308, 20, 1, 0, 0, 0, [0, 0, 0, 0, 0, 0, 0, 0], b'TTL Input on AcqSystem1_0 board 0 port 0 value (0x0001).'),\n",
       "       (0, 0, 2, 1659446912390902, 20, 0, 0, 0, 0, [0, 0, 0, 0, 0, 0, 0, 0], b'TTL Input on AcqSystem1_0 board 0 port 0 value (0x0000).'),\n",
       "       ...,\n",
       "       (0, 0, 2, 1659450451784606, 20, 1, 0, 0, 0, [0, 0, 0, 0, 0, 0, 0, 0], b'TTL Input on AcqSystem1_0 board 0 port 0 value (0x0001).'),\n",
       "       (0, 0, 2, 1659450451785543, 20, 0, 0, 0, 0, [0, 0, 0, 0, 0, 0, 0, 0], b'TTL Input on AcqSystem1_0 board 0 port 0 value (0x0000).'),\n",
       "       (0, 0, 2, 1659450551843440, 19, 0, 0, 0, 0, [0, 0, 0, 0, 0, 0, 0, 0], b'Stopping Recording')],\n",
       "      dtype=[('stx', '<i2'), ('pkt_id', '<i2'), ('pkt_data_size', '<i2'), ('TimeStamp', '<u8'), ('event_id', '<i2'), ('ttl', '<i2'), ('crc', '<i2'), ('dummy1', '<i2'), ('dummy2', '<i2'), ('Extra', '<i4', (8,)), ('EventString', 'S128')])"
      ]
     },
     "metadata": {},
     "output_type": "display_data"
    },
    {
     "data": {
      "text/plain": [
       "memmap([(0, 0, 2, 1659446908509934, 19, 0, 0, 0, 0, [0, 0, 0, 0, 0, 0, 0, 0], b'Starting Recording'),\n",
       "        (0, 0, 2, 1659446912365308, 20, 1, 0, 0, 0, [0, 0, 0, 0, 0, 0, 0, 0], b'TTL Input on AcqSystem1_0 board 0 port 0 value (0x0001).'),\n",
       "        (0, 0, 2, 1659446912390902, 20, 0, 0, 0, 0, [0, 0, 0, 0, 0, 0, 0, 0], b'TTL Input on AcqSystem1_0 board 0 port 0 value (0x0000).'),\n",
       "        ...,\n",
       "        (0, 0, 2, 1659450451784606, 20, 1, 0, 0, 0, [0, 0, 0, 0, 0, 0, 0, 0], b'TTL Input on AcqSystem1_0 board 0 port 0 value (0x0001).'),\n",
       "        (0, 0, 2, 1659450451785543, 20, 0, 0, 0, 0, [0, 0, 0, 0, 0, 0, 0, 0], b'TTL Input on AcqSystem1_0 board 0 port 0 value (0x0000).'),\n",
       "        (0, 0, 2, 1659450551843440, 19, 0, 0, 0, 0, [0, 0, 0, 0, 0, 0, 0, 0], b'Stopping Recording')],\n",
       "       dtype=[('reserved', '<i2'), ('system_id', '<i2'), ('data_size', '<i2'), ('timestamp', '<u8'), ('event_id', '<i2'), ('ttl_input', '<i2'), ('crc_check', '<i2'), ('dummy1', '<i2'), ('dummy2', '<i2'), ('extra', '<i4', (8,)), ('event_string', 'S128')])"
      ]
     },
     "metadata": {},
     "output_type": "display_data"
    }
   ],
   "source": [
    "display(test['records'])\n",
    "display(reader._nev_memmap['unknown'])"
   ]
  },
  {
   "cell_type": "markdown",
   "metadata": {},
   "source": [
    "## Compare header in event file:"
   ]
  },
  {
   "cell_type": "code",
   "execution_count": 42,
   "metadata": {},
   "outputs": [
    {
     "data": {
      "text/plain": [
       "b'######## Neuralynx Data File Header\\r\\n-FileType Event\\r\\n-FileVersion 3.2\\r\\n-FileUUID 88e12bb8-1ffc-42d9-96cf-f67ec4511487\\r\\n-SessionUUID dcae1f9e-7776-4be3-b2be-a6d38033978a\\r\\n-OriginalFileName E:\\\\ATLASData\\\\D555\\\\EXP3_Movie_24\\\\2022-08-02_13-25-41\\\\Events.nev\\r\\n-TimeCreated 2022/08/02 13:25:41\\r\\n-TimeClosed 2022/08/02 14:29:12\\r\\n-RecordSize 184\\r\\n-ApplicationName Pegasus \"2.1.2 \"\\r\\n-AcquisitionSystem AcqSystem1 ATLAS\\r\\n-AcqEntName Events\\r\\n'"
      ]
     },
     "metadata": {},
     "output_type": "display_data"
    },
    {
     "data": {
      "text/plain": [
       "{'TimeOpened': 'leVersion 3.2',\n",
       " 'TimeOpened_dt': None,\n",
       " 'TimeClosed': 'leUUID 88e12bb8-1ffc-42d9-96cf-f67ec4511487',\n",
       " 'TimeClosed_dt': None,\n",
       " 'SessionUUID': 'dcae1f9e-7776-4be3-b2be-a6d38033978a',\n",
       " 'OriginalFileName': 'E:\\\\ATLASData\\\\D555\\\\EXP3_Movie_24\\\\2022-08-02_13-25-41\\\\Events.nev',\n",
       " 'RecordSize': '184',\n",
       " 'AcqEntName': 'Events'}"
      ]
     },
     "metadata": {},
     "output_type": "display_data"
    },
    {
     "data": {
      "text/plain": [
       "NlxHeader([('channel_names', ['Events']),\n",
       "           ('FileType', 'Event'),\n",
       "           ('FileVersion', '3.2'),\n",
       "           ('RecordSize', '184'),\n",
       "           ('SessionUUID', 'dcae1f9e-7776-4be3-b2be-a6d38033978a'),\n",
       "           ('FileUUID', '88e12bb8-1ffc-42d9-96cf-f67ec4511487'),\n",
       "           ('OriginalFileName',\n",
       "            'E:\\\\ATLASData\\\\D555\\\\EXP3_Movie_24\\\\2022-08-02_13-25-41\\\\Events.nev'),\n",
       "           ('TimeCreated', '2022/08/02 13:25:41'),\n",
       "           ('TimeClosed', '2022/08/02 14:29:12'),\n",
       "           ('ApplicationName', 'Pegasus'),\n",
       "           ('AcquisitionSystem', 'AcqSystem1 ATLAS'),\n",
       "           ('channel_ids', ['unknown']),\n",
       "           ('ApplicationVersion', <Version('2.1.2')>),\n",
       "           ('recording_opened', datetime.datetime(2022, 8, 2, 13, 25, 41)),\n",
       "           ('recording_closed', datetime.datetime(2022, 8, 2, 14, 29, 12))])"
      ]
     },
     "metadata": {},
     "output_type": "display_data"
    }
   ],
   "source": [
    "display(test['raw_header'])\n",
    "display(test['header'])\n",
    "display(reader.file_headers[file_name])"
   ]
  },
  {
   "cell_type": "code",
   "execution_count": null,
   "metadata": {},
   "outputs": [],
   "source": []
  }
 ],
 "metadata": {
  "kernelspec": {
   "display_name": "Python 3 (ipykernel)",
   "language": "python",
   "name": "python3"
  },
  "language_info": {
   "codemirror_mode": {
    "name": "ipython",
    "version": 3
   },
   "file_extension": ".py",
   "mimetype": "text/x-python",
   "name": "python",
   "nbconvert_exporter": "python",
   "pygments_lexer": "ipython3",
   "version": "3.9.19"
  }
 },
 "nbformat": 4,
 "nbformat_minor": 4
}
